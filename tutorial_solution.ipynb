{
 "cells": [
  {
   "cell_type": "markdown",
   "metadata": {},
   "source": [
    "# Building a job recommendation system with embeddings"
   ]
  },
  {
   "cell_type": "markdown",
   "metadata": {},
   "source": [
    "## Agenda\n",
    "\n",
    "1. Data exploration\n",
    "2. Data cleaning\n",
    "3. Embedddings generation\n",
    "4. Similarity search with Faiss\n",
    "5. Recommendations based on text"
   ]
  },
  {
   "cell_type": "markdown",
   "metadata": {},
   "source": [
    "## Import data"
   ]
  },
  {
   "cell_type": "code",
   "execution_count": 1,
   "metadata": {},
   "outputs": [],
   "source": [
    "import pandas as pd\n",
    "df_raw = pd.read_csv(\"data/monster_com-job_sample.csv\")\n",
    "df = df_raw[[\"job_title\", \"job_description\"]]"
   ]
  },
  {
   "cell_type": "code",
   "execution_count": 2,
   "metadata": {
    "scrolled": true
   },
   "outputs": [
    {
     "data": {
      "text/html": [
       "<div>\n",
       "<style scoped>\n",
       "    .dataframe tbody tr th:only-of-type {\n",
       "        vertical-align: middle;\n",
       "    }\n",
       "\n",
       "    .dataframe tbody tr th {\n",
       "        vertical-align: top;\n",
       "    }\n",
       "\n",
       "    .dataframe thead th {\n",
       "        text-align: right;\n",
       "    }\n",
       "</style>\n",
       "<table border=\"1\" class=\"dataframe\">\n",
       "  <thead>\n",
       "    <tr style=\"text-align: right;\">\n",
       "      <th></th>\n",
       "      <th>job_title</th>\n",
       "      <th>job_description</th>\n",
       "    </tr>\n",
       "  </thead>\n",
       "  <tbody>\n",
       "    <tr>\n",
       "      <th>0</th>\n",
       "      <td>IT Support Technician Job in Madison</td>\n",
       "      <td>TeamSoft is seeing an IT Support Specialist to...</td>\n",
       "    </tr>\n",
       "    <tr>\n",
       "      <th>1</th>\n",
       "      <td>Business Reporter/Editor Job in Madison</td>\n",
       "      <td>The Wisconsin State Journal is seeking a flexi...</td>\n",
       "    </tr>\n",
       "    <tr>\n",
       "      <th>2</th>\n",
       "      <td>Johnson &amp; Johnson Family of Companies Job Appl...</td>\n",
       "      <td>Report this job About the Job DePuy Synthes Co...</td>\n",
       "    </tr>\n",
       "    <tr>\n",
       "      <th>3</th>\n",
       "      <td>Engineer - Quality Job in Dixon</td>\n",
       "      <td>Why Join Altec? If you’re considering a career...</td>\n",
       "    </tr>\n",
       "    <tr>\n",
       "      <th>4</th>\n",
       "      <td>Shift Supervisor - Part-Time Job in Camphill</td>\n",
       "      <td>Position ID#  76162 # Positions  1 State  CT C...</td>\n",
       "    </tr>\n",
       "    <tr>\n",
       "      <th>...</th>\n",
       "      <td>...</td>\n",
       "      <td>...</td>\n",
       "    </tr>\n",
       "    <tr>\n",
       "      <th>21995</th>\n",
       "      <td>Assistant Vice President - Controller Job in C...</td>\n",
       "      <td>This is a major premier Cincinnati based finan...</td>\n",
       "    </tr>\n",
       "    <tr>\n",
       "      <th>21996</th>\n",
       "      <td>Accountant Job in Cincinnati</td>\n",
       "      <td>Luxury homebuilder in Cincinnati seeking multi...</td>\n",
       "    </tr>\n",
       "    <tr>\n",
       "      <th>21997</th>\n",
       "      <td>AEM/CQ developer Job in Chicago</td>\n",
       "      <td>RE: Adobe AEM-          Client -          Loca...</td>\n",
       "    </tr>\n",
       "    <tr>\n",
       "      <th>21998</th>\n",
       "      <td>Electrician - Experienced Forging Electrician ...</td>\n",
       "      <td>Jernberg Industries was established in 1937 an...</td>\n",
       "    </tr>\n",
       "    <tr>\n",
       "      <th>21999</th>\n",
       "      <td>Contract Administrator Job in Cincinnati</td>\n",
       "      <td>Contract AdministratorCan you be the point per...</td>\n",
       "    </tr>\n",
       "  </tbody>\n",
       "</table>\n",
       "<p>22000 rows × 2 columns</p>\n",
       "</div>"
      ],
      "text/plain": [
       "                                               job_title  \\\n",
       "0                   IT Support Technician Job in Madison   \n",
       "1                Business Reporter/Editor Job in Madison   \n",
       "2      Johnson & Johnson Family of Companies Job Appl...   \n",
       "3                        Engineer - Quality Job in Dixon   \n",
       "4           Shift Supervisor - Part-Time Job in Camphill   \n",
       "...                                                  ...   \n",
       "21995  Assistant Vice President - Controller Job in C...   \n",
       "21996                       Accountant Job in Cincinnati   \n",
       "21997                    AEM/CQ developer Job in Chicago   \n",
       "21998  Electrician - Experienced Forging Electrician ...   \n",
       "21999           Contract Administrator Job in Cincinnati   \n",
       "\n",
       "                                         job_description  \n",
       "0      TeamSoft is seeing an IT Support Specialist to...  \n",
       "1      The Wisconsin State Journal is seeking a flexi...  \n",
       "2      Report this job About the Job DePuy Synthes Co...  \n",
       "3      Why Join Altec? If you’re considering a career...  \n",
       "4      Position ID#  76162 # Positions  1 State  CT C...  \n",
       "...                                                  ...  \n",
       "21995  This is a major premier Cincinnati based finan...  \n",
       "21996  Luxury homebuilder in Cincinnati seeking multi...  \n",
       "21997  RE: Adobe AEM-          Client -          Loca...  \n",
       "21998  Jernberg Industries was established in 1937 an...  \n",
       "21999  Contract AdministratorCan you be the point per...  \n",
       "\n",
       "[22000 rows x 2 columns]"
      ]
     },
     "execution_count": 2,
     "metadata": {},
     "output_type": "execute_result"
    }
   ],
   "source": [
    "df"
   ]
  },
  {
   "cell_type": "markdown",
   "metadata": {},
   "source": [
    "## Dataframe exploration\n",
    "What can you find out about the data?\n",
    "(Null-values? Unique values?)"
   ]
  },
  {
   "cell_type": "code",
   "execution_count": 3,
   "metadata": {},
   "outputs": [
    {
     "name": "stdout",
     "output_type": "stream",
     "text": [
      "<class 'pandas.core.frame.DataFrame'>\n",
      "RangeIndex: 22000 entries, 0 to 21999\n",
      "Data columns (total 2 columns):\n",
      " #   Column           Non-Null Count  Dtype \n",
      "---  ------           --------------  ----- \n",
      " 0   job_title        22000 non-null  object\n",
      " 1   job_description  22000 non-null  object\n",
      "dtypes: object(2)\n",
      "memory usage: 343.9+ KB\n"
     ]
    }
   ],
   "source": [
    "df.info()"
   ]
  },
  {
   "cell_type": "code",
   "execution_count": 4,
   "metadata": {},
   "outputs": [
    {
     "data": {
      "text/html": [
       "<div>\n",
       "<style scoped>\n",
       "    .dataframe tbody tr th:only-of-type {\n",
       "        vertical-align: middle;\n",
       "    }\n",
       "\n",
       "    .dataframe tbody tr th {\n",
       "        vertical-align: top;\n",
       "    }\n",
       "\n",
       "    .dataframe thead th {\n",
       "        text-align: right;\n",
       "    }\n",
       "</style>\n",
       "<table border=\"1\" class=\"dataframe\">\n",
       "  <thead>\n",
       "    <tr style=\"text-align: right;\">\n",
       "      <th></th>\n",
       "      <th>job_title</th>\n",
       "      <th>job_description</th>\n",
       "    </tr>\n",
       "  </thead>\n",
       "  <tbody>\n",
       "    <tr>\n",
       "      <th>count</th>\n",
       "      <td>22000</td>\n",
       "      <td>22000</td>\n",
       "    </tr>\n",
       "    <tr>\n",
       "      <th>unique</th>\n",
       "      <td>18759</td>\n",
       "      <td>18744</td>\n",
       "    </tr>\n",
       "    <tr>\n",
       "      <th>top</th>\n",
       "      <td>Monster</td>\n",
       "      <td>12N Horizontal Construction Engineers Job Desc...</td>\n",
       "    </tr>\n",
       "    <tr>\n",
       "      <th>freq</th>\n",
       "      <td>318</td>\n",
       "      <td>104</td>\n",
       "    </tr>\n",
       "  </tbody>\n",
       "</table>\n",
       "</div>"
      ],
      "text/plain": [
       "       job_title                                    job_description\n",
       "count      22000                                              22000\n",
       "unique     18759                                              18744\n",
       "top      Monster  12N Horizontal Construction Engineers Job Desc...\n",
       "freq         318                                                104"
      ]
     },
     "execution_count": 4,
     "metadata": {},
     "output_type": "execute_result"
    }
   ],
   "source": [
    "df.describe()"
   ]
  },
  {
   "cell_type": "code",
   "execution_count": 5,
   "metadata": {},
   "outputs": [
    {
     "data": {
      "text/plain": [
       "array(['IT Support Technician Job in Madison',\n",
       "       'Business Reporter/Editor Job in Madison',\n",
       "       'Johnson & Johnson Family of Companies Job Application for Senior Training Leader | Monster.com var MONS_LOG_VARS = {\"JobID\":',\n",
       "       ..., 'AEM/CQ developer Job in Chicago',\n",
       "       'Electrician - Experienced Forging Electrician Job in Chicago',\n",
       "       'Contract Administrator Job in Cincinnati'], dtype=object)"
      ]
     },
     "execution_count": 5,
     "metadata": {},
     "output_type": "execute_result"
    }
   ],
   "source": [
    "df['job_title'].unique()"
   ]
  },
  {
   "cell_type": "markdown",
   "metadata": {},
   "source": [
    "## Exploration and cleaning of the job title column"
   ]
  },
  {
   "cell_type": "code",
   "execution_count": 6,
   "metadata": {},
   "outputs": [
    {
     "data": {
      "text/plain": [
       "Monster                                         318\n",
       "Shift Supervisor Job in Camphill                256\n",
       "RN                                               70\n",
       "Shift Supervisor - Part-Time Job in Camphill     56\n",
       "Manager                                          50\n",
       "Please apply only if you are qualified.          31\n",
       "ASST STORE MGR Job in Columbus                   26\n",
       "LEAD SALES ASSOCIATE-FT Job in Columbus          26\n",
       "LEAD SALES ASSOCIATE-PT Job in Columbus          24\n",
       "SALES ASSOCIATE Job in Columbus                  24\n",
       "Name: job_title, dtype: int64"
      ]
     },
     "execution_count": 6,
     "metadata": {},
     "output_type": "execute_result"
    }
   ],
   "source": [
    "df.job_title.value_counts()[:10]"
   ]
  },
  {
   "cell_type": "markdown",
   "metadata": {},
   "source": [
    "### Remove jobs with Monster as title"
   ]
  },
  {
   "cell_type": "code",
   "execution_count": 7,
   "metadata": {
    "scrolled": true
   },
   "outputs": [
    {
     "data": {
      "text/html": [
       "<style  type=\"text/css\" >\n",
       "#T_3ddbe218_e092_11ea_a0c0_acde48001122row0_col0,#T_3ddbe218_e092_11ea_a0c0_acde48001122row0_col1,#T_3ddbe218_e092_11ea_a0c0_acde48001122row1_col0,#T_3ddbe218_e092_11ea_a0c0_acde48001122row1_col1,#T_3ddbe218_e092_11ea_a0c0_acde48001122row2_col0,#T_3ddbe218_e092_11ea_a0c0_acde48001122row2_col1,#T_3ddbe218_e092_11ea_a0c0_acde48001122row3_col0,#T_3ddbe218_e092_11ea_a0c0_acde48001122row3_col1,#T_3ddbe218_e092_11ea_a0c0_acde48001122row4_col0,#T_3ddbe218_e092_11ea_a0c0_acde48001122row4_col1{\n",
       "            width-min:  100px;\n",
       "        }</style><table id=\"T_3ddbe218_e092_11ea_a0c0_acde48001122\" ><thead>    <tr>        <th class=\"blank level0\" ></th>        <th class=\"col_heading level0 col0\" >job_title</th>        <th class=\"col_heading level0 col1\" >job_description</th>    </tr></thead><tbody>\n",
       "                <tr>\n",
       "                        <th id=\"T_3ddbe218_e092_11ea_a0c0_acde48001122level0_row0\" class=\"row_heading level0 row0\" >842</th>\n",
       "                        <td id=\"T_3ddbe218_e092_11ea_a0c0_acde48001122row0_col0\" class=\"data row0 col0\" >Monster</td>\n",
       "                        <td id=\"T_3ddbe218_e092_11ea_a0c0_acde48001122row0_col1\" class=\"data row0 col1\" >Alliance Engineering, Ltd., is actively seeking a Civil Engineering Draftsman with some experience in Planning, Civil Engineering, Landscape Design, Water Resources, Land Development, Project Management, and/or Construction Management. A four (4) year civil engineering degree is required, as well as, EIT certification.The candidate must have a minimum of three (3) years experience in civil design, and be proficient with Autodesk Civil 3D 2014 or later software on Windows 8. The candidate must also be proficient in the tracking, development, and writing/pricing of proposals. The candidate will work out of AEL’s Westminster, CO office; however, since AEL provides services in various states, the candidate must be willing to travel if a particular job requires the candidate to do so.·  Four (4) year civil engineering degree; ·  Very experienced and proficient with Autodesk Civil 3D 2014or later software;·  EIT certification; ·  Three (3) years experience in civil design; ·  Proficient in the tracking, development, and writing/pricing of proposals; and, ·  Willing to travel if a particular job requires it.  Location: Westminster, ColoradoSalary: OpenType: Full Time - ExperiencedCategories: Civil - Design, Civil Engineering Alliance Engineering, Ltd. is a civil engineering, design, construction, and land development firm offering services for projects from conception through completion. With over 20+ years of experience in the market, we are able to provide a broad range of quality services, delivered consistently on time at competitive prices. We offer excellent plans and programs for employees. Employees are rewarded with a competitive salary and comprehensive benefits package which may include: health benefits with coverage for families and domestic partners, vacation, retirement plans, paid holidays, tuition reimbursement, generous bonuses, and profit sharing. You can experience the excitement of our company-it's the difference between taking a job and starting a career.</td>\n",
       "            </tr>\n",
       "            <tr>\n",
       "                        <th id=\"T_3ddbe218_e092_11ea_a0c0_acde48001122level0_row1\" class=\"row_heading level0 row1\" >3865</th>\n",
       "                        <td id=\"T_3ddbe218_e092_11ea_a0c0_acde48001122row1_col0\" class=\"data row1 col0\" >Monster</td>\n",
       "                        <td id=\"T_3ddbe218_e092_11ea_a0c0_acde48001122row1_col1\" class=\"data row1 col1\" >Report this job About the Job Janitorial Positions ServiceMaster is now accepting applications for Full Time evening commercial janitorial positions in the health care field. Call 865-281-0220 for more information. Posting provided by: Report</td>\n",
       "            </tr>\n",
       "            <tr>\n",
       "                        <th id=\"T_3ddbe218_e092_11ea_a0c0_acde48001122level0_row2\" class=\"row_heading level0 row2\" >16231</th>\n",
       "                        <td id=\"T_3ddbe218_e092_11ea_a0c0_acde48001122row2_col0\" class=\"data row2 col0\" >Monster</td>\n",
       "                        <td id=\"T_3ddbe218_e092_11ea_a0c0_acde48001122row2_col1\" class=\"data row2 col1\" >Report this job About the Job Connexion Systems & Engineering, a Boston based IT and Engineering Solutions Company immediately seeks individuals with the following skills:  Job# bh6076 Staff AccountantJob Description:The Staff Accountant II, under the direction of the SVP/Director of Accounting Operations, performs a variety of accounting and operational duties in support of the Finance department and other business lines.Position Requirements:Candidate should have BS degree in accounting/finance and 3+ years accounting experience in a banking environment. Good problem solver with strong accounting/financial fundamentals. A working knowledge of Excel and Word, good communication and people skills and must be a team player.Specific Job Functions:Performs daily, weekly, and monthly operational functionsInteracts with a variety of personnel in resolving various balancing and related issuesDevelops full understanding of our financial systems and operationsPerforms the reconciliation of correspondent bank statements and general ledger accountsSupports routine accounting processes as directed, including all calculations, record keeping, proof and reconciliation functionsAssists with the administration and execution of wire transfersAssists with department record retention requirementsManages the accounts payable, fixed assets, and prepaid items functionsPerforms a variety of daily processing and reconciling activitiesDevelops analytical methods to review income and expense activityPrepares internal reporting for monthly Board packagePrepares budget variance analysis at department levelAssists Director in support of oversight of Vendor Management programProvides operational support to other business lines Works well in a team environment. When responding to this job posting you MUST include the Job# and Job Title in your subject line.                  Duration:    Permanent Rate            50-57K Locations:  Belmont, MA Contact Info:                                                                                                                                       ConneXion Systems & Engineering490 Boston Post RoadSudbury, MA 01776jobpostings@csetalent.com Report</td>\n",
       "            </tr>\n",
       "            <tr>\n",
       "                        <th id=\"T_3ddbe218_e092_11ea_a0c0_acde48001122level0_row3\" class=\"row_heading level0 row3\" >3955</th>\n",
       "                        <td id=\"T_3ddbe218_e092_11ea_a0c0_acde48001122row3_col0\" class=\"data row3 col0\" >Monster</td>\n",
       "                        <td id=\"T_3ddbe218_e092_11ea_a0c0_acde48001122row3_col1\" class=\"data row3 col1\" >Report this job About the Job Scott's Hotrods is moving to eastern Tennessee. Scott's is the premier manufacturer of quality suspension kits and complete chassis for American made vehicles. We also build complete ground-up award winning custom vehicles. YEARS of Experience and Natural Skill. Must be able to work as a team to achieve a common goal: CNC Programmers $21-$28/hr Custom Sheet Metal Fabricators Chassis Fabricators Office Manager Competitive Pay! www.scottshotrods.com email resume: cam@scottshotrods.com 805-485-0382 Posting provided by: Report</td>\n",
       "            </tr>\n",
       "            <tr>\n",
       "                        <th id=\"T_3ddbe218_e092_11ea_a0c0_acde48001122level0_row4\" class=\"row_heading level0 row4\" >3938</th>\n",
       "                        <td id=\"T_3ddbe218_e092_11ea_a0c0_acde48001122row4_col0\" class=\"data row4 col0\" >Monster</td>\n",
       "                        <td id=\"T_3ddbe218_e092_11ea_a0c0_acde48001122row4_col1\" class=\"data row4 col1\" >Report this job About the Job Local distributor taking applications for F/T delivery person. Clean driving record & valid TN driver's lic. Send resume to: tracy@xpaperchem.com or call 865-688-5757.Posting provided by: Report</td>\n",
       "            </tr>\n",
       "    </tbody></table>"
      ],
      "text/plain": [
       "<pandas.io.formats.style.Styler at 0x110e57f50>"
      ]
     },
     "execution_count": 7,
     "metadata": {},
     "output_type": "execute_result"
    }
   ],
   "source": [
    "df[df[\"job_title\"] == \"Monster\"].sample(5).style.set_properties(**{'width-min': '100px'})"
   ]
  },
  {
   "cell_type": "code",
   "execution_count": 8,
   "metadata": {},
   "outputs": [],
   "source": [
    "df = df.drop(df[df.job_title == \"Monster\"].index)\n",
    "# or df = df[df['job_title']!=\"Monster\"] "
   ]
  },
  {
   "cell_type": "markdown",
   "metadata": {},
   "source": [
    "### Replace the jobtitle RN with Registered Nurse"
   ]
  },
  {
   "cell_type": "code",
   "execution_count": 9,
   "metadata": {
    "scrolled": true
   },
   "outputs": [
    {
     "data": {
      "text/html": [
       "<div>\n",
       "<style scoped>\n",
       "    .dataframe tbody tr th:only-of-type {\n",
       "        vertical-align: middle;\n",
       "    }\n",
       "\n",
       "    .dataframe tbody tr th {\n",
       "        vertical-align: top;\n",
       "    }\n",
       "\n",
       "    .dataframe thead th {\n",
       "        text-align: right;\n",
       "    }\n",
       "</style>\n",
       "<table border=\"1\" class=\"dataframe\">\n",
       "  <thead>\n",
       "    <tr style=\"text-align: right;\">\n",
       "      <th></th>\n",
       "      <th>job_title</th>\n",
       "      <th>job_description</th>\n",
       "    </tr>\n",
       "  </thead>\n",
       "  <tbody>\n",
       "    <tr>\n",
       "      <th>2668</th>\n",
       "      <td>RN</td>\n",
       "      <td>Job Description Registered professional nurse ...</td>\n",
       "    </tr>\n",
       "    <tr>\n",
       "      <th>2672</th>\n",
       "      <td>RN</td>\n",
       "      <td>Job Description Registered professional nurse ...</td>\n",
       "    </tr>\n",
       "    <tr>\n",
       "      <th>2763</th>\n",
       "      <td>RN</td>\n",
       "      <td>Job Description Up to $5,000 Sign On Bonus for...</td>\n",
       "    </tr>\n",
       "    <tr>\n",
       "      <th>2794</th>\n",
       "      <td>RN</td>\n",
       "      <td>Provides professional nursing care for the com...</td>\n",
       "    </tr>\n",
       "    <tr>\n",
       "      <th>2821</th>\n",
       "      <td>RN</td>\n",
       "      <td>Job Description As part of the application pro...</td>\n",
       "    </tr>\n",
       "    <tr>\n",
       "      <th>...</th>\n",
       "      <td>...</td>\n",
       "      <td>...</td>\n",
       "    </tr>\n",
       "    <tr>\n",
       "      <th>19635</th>\n",
       "      <td>RN</td>\n",
       "      <td>Up to $5,000 Sign On Bonus for experienced Eme...</td>\n",
       "    </tr>\n",
       "    <tr>\n",
       "      <th>19743</th>\n",
       "      <td>RN</td>\n",
       "      <td>Registered professional nurse who assesses, im...</td>\n",
       "    </tr>\n",
       "    <tr>\n",
       "      <th>19773</th>\n",
       "      <td>RN</td>\n",
       "      <td>Registered professional nurse who assesses, im...</td>\n",
       "    </tr>\n",
       "    <tr>\n",
       "      <th>19927</th>\n",
       "      <td>RN</td>\n",
       "      <td>Davis Hospital and Medical Center is a 225-bed...</td>\n",
       "    </tr>\n",
       "    <tr>\n",
       "      <th>20043</th>\n",
       "      <td>RN</td>\n",
       "      <td>Job Description Under the direction of, and in...</td>\n",
       "    </tr>\n",
       "  </tbody>\n",
       "</table>\n",
       "<p>70 rows × 2 columns</p>\n",
       "</div>"
      ],
      "text/plain": [
       "      job_title                                    job_description\n",
       "2668         RN  Job Description Registered professional nurse ...\n",
       "2672         RN  Job Description Registered professional nurse ...\n",
       "2763         RN  Job Description Up to $5,000 Sign On Bonus for...\n",
       "2794         RN  Provides professional nursing care for the com...\n",
       "2821         RN  Job Description As part of the application pro...\n",
       "...         ...                                                ...\n",
       "19635        RN  Up to $5,000 Sign On Bonus for experienced Eme...\n",
       "19743        RN  Registered professional nurse who assesses, im...\n",
       "19773        RN  Registered professional nurse who assesses, im...\n",
       "19927        RN  Davis Hospital and Medical Center is a 225-bed...\n",
       "20043        RN  Job Description Under the direction of, and in...\n",
       "\n",
       "[70 rows x 2 columns]"
      ]
     },
     "execution_count": 9,
     "metadata": {},
     "output_type": "execute_result"
    }
   ],
   "source": [
    "df[df[\"job_title\"] == \"RN\"]"
   ]
  },
  {
   "cell_type": "code",
   "execution_count": 10,
   "metadata": {},
   "outputs": [],
   "source": [
    "df[\"job_title\"] = [\"Registered nurse\" if title==\"RN\" else title for title in df.job_title]"
   ]
  },
  {
   "cell_type": "markdown",
   "metadata": {},
   "source": [
    "### Count the most occuring words in the job_title column"
   ]
  },
  {
   "cell_type": "code",
   "execution_count": 11,
   "metadata": {
    "scrolled": true
   },
   "outputs": [
    {
     "data": {
      "text/plain": [
       "[('Job', 19779),\n",
       " ('in', 19166),\n",
       " ('-', 4726),\n",
       " ('Manager', 3026),\n",
       " ('Sales', 1475),\n",
       " ('Dallas', 1429),\n",
       " ('Specialist', 1247),\n",
       " ('Engineer', 1136),\n",
       " ('Technician', 1054),\n",
       " ('{', 959),\n",
       " ('/', 959),\n",
       " ('Assistant', 947),\n",
       " ('Project', 930),\n",
       " ('Cincinnati', 900),\n",
       " ('for', 844),\n",
       " ('Service', 828),\n",
       " ('|', 809),\n",
       " ('Application', 797),\n",
       " ('Monster.com', 794),\n",
       " ('Supervisor', 782),\n",
       " ('Columbus', 776),\n",
       " ('San', 760),\n",
       " ('Analyst', 740),\n",
       " ('Construction', 723),\n",
       " ('Senior', 722),\n",
       " ('Quality', 707),\n",
       " ('=', 654),\n",
       " ('var', 653),\n",
       " ('MONS_LOG_VARS', 637),\n",
       " ('{\"JobID\":', 637),\n",
       " ('and', 611),\n",
       " ('Associate', 589),\n",
       " ('Nurse', 581),\n",
       " ('Shift', 545),\n",
       " ('City', 530),\n",
       " ('Coordinator', 525),\n",
       " ('&', 515),\n",
       " ('Representative', 514),\n",
       " ('Time', 498),\n",
       " ('}', 483),\n",
       " ('body', 475),\n",
       " ('margin:px;', 475),\n",
       " ('overflow:', 475),\n",
       " ('visible', 475),\n",
       " ('!important;', 475),\n",
       " ('#ejb_header', 475),\n",
       " ('color:', 475),\n",
       " ('#;', 475),\n",
       " ('font-family:', 475),\n",
       " ('Verdana', 475),\n",
       " ('Level', 472),\n",
       " ('Chicago', 469),\n",
       " ('Entry', 458),\n",
       " ('Registered', 446),\n",
       " ('Director', 443),\n",
       " ('Houston', 427),\n",
       " ('–', 427),\n",
       " ('Las', 416),\n",
       " ('Atlanta', 415),\n",
       " ('Vegas', 413),\n",
       " ('Retail', 389),\n",
       " ('Maintenance', 387),\n",
       " ('Marketing', 382),\n",
       " ('Developer', 376),\n",
       " ('Restaurant', 376),\n",
       " ('Driver', 370),\n",
       " ('Security', 361),\n",
       " ('Customer', 354),\n",
       " ('New', 354),\n",
       " ('Support', 349),\n",
       " ('of', 345),\n",
       " ('Camphill', 333),\n",
       " ('Medical', 322),\n",
       " ('Business', 320),\n",
       " ('Consultant', 311),\n",
       " ('Lead', 311),\n",
       " ('Health', 311),\n",
       " ('function', 310),\n",
       " ('wrap(EL', 309),\n",
       " ('Field', 305),\n",
       " ('Management', 301),\n",
       " ('Full', 300),\n",
       " ('Services', 285),\n",
       " ('Systems', 284),\n",
       " ('Accountant', 279),\n",
       " ('RN', 277),\n",
       " ('Part', 274),\n",
       " ('Account', 271),\n",
       " ('Antonio', 268),\n",
       " ('CyberCoders', 264),\n",
       " ('General', 255),\n",
       " ('Austin', 254),\n",
       " ('Care', 252),\n",
       " ('Program', 248),\n",
       " ('Operations', 243),\n",
       " ('Development', 238),\n",
       " ('Denver', 237),\n",
       " ('York', 233),\n",
       " ('Administrator', 231),\n",
       " ('Production', 229)]"
      ]
     },
     "execution_count": 11,
     "metadata": {},
     "output_type": "execute_result"
    }
   ],
   "source": [
    "from collections import Counter\n",
    "Counter(\" \".join(df[\"job_title\"]).split()).most_common(100)"
   ]
  },
  {
   "cell_type": "markdown",
   "metadata": {},
   "source": [
    "### Remove the unwanted words from Job_Title column (such as Job)"
   ]
  },
  {
   "cell_type": "code",
   "execution_count": 12,
   "metadata": {},
   "outputs": [],
   "source": [
    "jobtitle=df['job_title'].str.split('Job')\n",
    "df['job_title']=jobtitle.str[0]"
   ]
  },
  {
   "cell_type": "markdown",
   "metadata": {},
   "source": [
    "### Remove punctuation from job_title column"
   ]
  },
  {
   "cell_type": "code",
   "execution_count": 13,
   "metadata": {},
   "outputs": [
    {
     "data": {
      "text/plain": [
       "'!\"#$%&\\'()*+,-./:;<=>?@[\\\\]^_`{|}~'"
      ]
     },
     "execution_count": 13,
     "metadata": {},
     "output_type": "execute_result"
    }
   ],
   "source": [
    "import string\n",
    "punc = string.punctuation\n",
    "punc"
   ]
  },
  {
   "cell_type": "code",
   "execution_count": 14,
   "metadata": {},
   "outputs": [],
   "source": [
    "df['job_title'] = df['job_title'].apply(lambda x: \"\".join([word for word in x if word not in punc]))"
   ]
  },
  {
   "cell_type": "code",
   "execution_count": 15,
   "metadata": {},
   "outputs": [
    {
     "data": {
      "text/plain": [
       "CyberCoders                                                    264\n",
       "Shift Supervisor                                               260\n",
       "Project Manager                                                154\n",
       "N Horizontal Construction Engineers                            138\n",
       "B Combat Engineer  Construction and Engineering Specialist      99\n",
       "L Construction Vehicle Repairer                                 98\n",
       "Restaurant Manager                                              95\n",
       "Security Officer                                                88\n",
       "Registered nurse                                                70\n",
       "Maintenance Technician                                          66\n",
       "Name: job_title, dtype: int64"
      ]
     },
     "execution_count": 15,
     "metadata": {},
     "output_type": "execute_result"
    }
   ],
   "source": [
    "df['job_title'].value_counts()[:10]"
   ]
  },
  {
   "cell_type": "code",
   "execution_count": 16,
   "metadata": {},
   "outputs": [],
   "source": [
    "# Reset index of dataframe for later mapping\n",
    "df = df.reset_index()"
   ]
  },
  {
   "cell_type": "markdown",
   "metadata": {},
   "source": [
    "## Convert descriptions into vectors with the  Universal Sentence Encoder"
   ]
  },
  {
   "cell_type": "code",
   "execution_count": 17,
   "metadata": {},
   "outputs": [],
   "source": [
    "import tensorflow_hub as hub\n",
    "embed = hub.load(\"https://tfhub.dev/google/universal-sentence-encoder/4\")"
   ]
  },
  {
   "cell_type": "code",
   "execution_count": 18,
   "metadata": {},
   "outputs": [],
   "source": [
    "embeddings = embed(df.job_title.to_list())"
   ]
  },
  {
   "cell_type": "code",
   "execution_count": 19,
   "metadata": {},
   "outputs": [
    {
     "data": {
      "text/plain": [
       "<tf.Tensor: shape=(512,), dtype=float32, numpy=\n",
       "array([ 5.12974672e-02, -2.62291506e-02, -5.80487065e-02,  3.83210694e-03,\n",
       "       -2.07152199e-02, -2.42365990e-02,  4.04172726e-02, -2.02521868e-02,\n",
       "        7.80966654e-02, -6.32373020e-02,  4.99930941e-02, -6.03388958e-02,\n",
       "        1.89307071e-02, -2.51962431e-02,  7.05621988e-02,  1.12409843e-03,\n",
       "       -5.51056862e-03,  1.13683625e-03,  5.51899783e-02, -7.56627843e-02,\n",
       "        6.14884421e-02,  1.87566422e-03,  4.42417450e-02, -9.26245842e-03,\n",
       "        2.25352440e-02,  6.17089728e-03, -8.32106546e-02,  2.31221858e-02,\n",
       "       -3.00848112e-02, -2.78400648e-02, -7.13586658e-02,  6.72420710e-02,\n",
       "       -3.51649150e-02, -1.12885246e-02, -5.77206612e-02, -1.82857178e-02,\n",
       "        6.03349172e-02,  6.27986109e-03, -7.15801194e-02,  5.21528572e-02,\n",
       "        6.00093603e-02, -3.55952494e-02, -4.34854738e-02, -2.40718853e-02,\n",
       "        6.70997873e-02, -1.11188358e-02,  1.43688172e-02, -2.32283622e-02,\n",
       "       -2.39833910e-02,  1.82318769e-03, -7.39896372e-02,  5.10589480e-02,\n",
       "       -1.83551311e-02, -3.25675346e-02,  7.37994462e-02, -4.33333814e-02,\n",
       "        5.01952171e-02,  5.51193245e-02, -6.14834391e-02,  3.92861012e-03,\n",
       "        7.91847892e-03, -3.11264545e-02, -5.90847172e-02,  2.57840250e-02,\n",
       "       -1.90874059e-02, -1.28190592e-03, -7.58500844e-02, -2.30178367e-02,\n",
       "       -6.69720247e-02, -5.06318472e-02, -1.01546764e-04, -5.98549917e-02,\n",
       "       -3.98227349e-02, -6.57672510e-02, -3.14925089e-02, -8.79420936e-02,\n",
       "       -1.16818515e-03, -4.66504879e-02, -1.08956443e-02,  2.67776288e-02,\n",
       "       -9.87920165e-03,  4.19840999e-02, -2.32748743e-02,  3.49579453e-02,\n",
       "       -5.84218577e-02,  1.83038116e-02, -5.11173941e-02,  1.06108151e-02,\n",
       "        8.33440498e-02, -4.27956879e-02,  7.98064843e-03,  3.48531343e-02,\n",
       "        4.26658764e-02,  3.81308049e-02, -7.19420835e-02,  5.39337359e-02,\n",
       "       -6.22332096e-02, -1.71159641e-04, -3.87993157e-02, -6.94092885e-02,\n",
       "        7.58046731e-02, -1.56725924e-02, -4.01356257e-02,  4.30903211e-02,\n",
       "       -7.62815028e-02, -6.80907369e-02,  4.76033725e-02, -2.80783288e-02,\n",
       "       -5.84710650e-02, -2.59968676e-02,  4.21851054e-02,  5.08143902e-02,\n",
       "        6.72336593e-02, -5.48621491e-02, -1.28691290e-02, -6.90811574e-02,\n",
       "        5.83141036e-02,  1.52973756e-02,  2.82766274e-03, -2.09590197e-02,\n",
       "       -4.95849252e-02,  6.12929203e-02,  5.08531705e-02,  5.35987504e-02,\n",
       "        1.27716642e-03,  3.93465087e-02, -5.28074242e-02, -7.05338432e-04,\n",
       "       -6.44172505e-02,  2.55541727e-02, -8.49252045e-02,  5.31015452e-03,\n",
       "        1.63921267e-02,  3.88782248e-02,  5.37752621e-02, -5.01576113e-03,\n",
       "       -6.03794008e-02,  2.76412647e-02, -5.49502000e-02, -3.87627929e-02,\n",
       "       -4.78542000e-02, -3.82349528e-02,  2.72799563e-02, -6.06110618e-02,\n",
       "        6.85232729e-02,  1.06506664e-02, -5.28982766e-02, -8.80899467e-03,\n",
       "        3.41525860e-02, -1.91662591e-02,  1.25612384e-02,  3.79953422e-02,\n",
       "       -6.44331872e-02, -2.16334052e-02, -2.61474568e-02, -1.55035472e-02,\n",
       "        6.47438914e-02,  3.69696654e-02,  1.30015276e-02,  3.89137641e-02,\n",
       "       -4.25638445e-02,  2.25930605e-02, -2.34437007e-02,  2.28427956e-03,\n",
       "       -4.03830297e-02,  5.93326949e-02,  2.34151483e-02,  4.03996892e-02,\n",
       "       -2.02289429e-02, -5.60163409e-02, -3.02296057e-02,  1.50705641e-02,\n",
       "       -1.96214374e-02, -8.16612039e-03,  4.92464937e-02, -4.82789651e-02,\n",
       "        5.69075309e-02, -6.76420406e-02, -1.22907571e-02,  2.62295641e-02,\n",
       "       -5.80716766e-02,  2.47305557e-02,  5.49887605e-02,  5.17891645e-02,\n",
       "        5.52444048e-02,  5.16885240e-03, -8.49423632e-02,  6.15875684e-02,\n",
       "       -1.14690047e-03, -7.01657161e-02,  2.28724927e-02, -7.89326578e-02,\n",
       "       -3.99733968e-02,  9.10235941e-03,  1.76028963e-02,  4.67804857e-02,\n",
       "        4.01024707e-02,  4.89881858e-02, -1.08031183e-02,  2.10628416e-02,\n",
       "       -3.20899673e-02,  7.31749088e-02, -4.69559878e-02,  1.42763602e-02,\n",
       "       -1.73179768e-02,  2.24823970e-02, -1.64009985e-02, -2.82599665e-02,\n",
       "        7.72930533e-02,  4.53240350e-02,  2.14296989e-02,  7.90933892e-02,\n",
       "       -7.21606091e-02, -4.99396236e-04, -2.32941173e-02, -5.49884140e-03,\n",
       "        2.01000944e-02,  4.64409329e-02, -6.25154972e-02,  3.57231870e-02,\n",
       "        7.40811601e-02,  3.05064078e-02, -6.55027432e-03,  3.64688076e-02,\n",
       "        4.22373340e-02, -4.01440356e-03, -2.18497366e-02, -2.10042093e-02,\n",
       "        6.93847984e-02,  3.42170820e-02, -4.61947843e-02, -3.89481969e-02,\n",
       "       -2.09530368e-02,  8.69887620e-02,  2.07967162e-02,  6.21575713e-02,\n",
       "        4.62277755e-02,  3.50976805e-03,  2.94304378e-02,  6.82510883e-02,\n",
       "       -3.21558341e-02,  1.56273134e-02,  2.71943957e-02,  2.28982083e-02,\n",
       "        4.92360368e-02, -3.40544879e-02,  3.04311030e-02,  6.45878464e-02,\n",
       "       -2.26456560e-02,  7.72677213e-02, -8.73672813e-02,  2.51798667e-02,\n",
       "        4.58351560e-02,  5.04703671e-02, -4.29918915e-02,  3.57135423e-02,\n",
       "        1.29684219e-02,  1.45663498e-02,  7.66333845e-03,  4.22153436e-02,\n",
       "       -4.14089374e-02, -2.81185582e-02,  5.79496808e-02,  6.88903257e-02,\n",
       "        7.83290192e-02,  7.21000955e-02,  1.47188623e-02,  6.15086220e-02,\n",
       "        9.51777957e-03, -3.90241034e-02,  1.01845209e-02, -3.43409441e-02,\n",
       "        2.26745736e-02, -2.62908340e-02,  6.59560598e-03, -5.08852899e-02,\n",
       "        9.60751902e-03,  4.36552390e-02,  4.09401618e-02, -5.87392636e-02,\n",
       "        4.31995802e-02, -2.10066102e-02, -3.79549004e-02,  1.87233090e-02,\n",
       "        2.22108932e-03, -2.25645788e-02,  5.43800853e-02,  5.25252819e-02,\n",
       "       -2.08783410e-02, -2.89458353e-02, -3.74141000e-02, -6.09770194e-02,\n",
       "        6.72067255e-02,  5.95264547e-02,  1.87889785e-02, -2.04133312e-03,\n",
       "       -5.92239909e-02, -3.70082594e-02,  7.64270686e-03,  2.39935052e-02,\n",
       "       -1.50856813e-02,  3.88312526e-02,  6.79533929e-02,  1.87662262e-02,\n",
       "       -5.88499159e-02, -4.90980223e-02,  3.42163555e-02,  6.38393387e-02,\n",
       "       -5.21991029e-02,  7.94447362e-02,  8.38329084e-03, -7.41155073e-02,\n",
       "        5.46970740e-02, -4.44268249e-02,  6.24702089e-02,  5.11028990e-02,\n",
       "        6.37033805e-02, -4.89406427e-03, -6.56130388e-02, -1.22045446e-02,\n",
       "        3.21613997e-02, -3.61969732e-02, -2.11519259e-03,  1.59372315e-02,\n",
       "       -5.00732698e-02,  2.08621696e-02, -5.05282395e-02,  6.10639639e-02,\n",
       "        1.10776573e-02, -4.70422022e-03,  6.65575638e-02,  3.87709364e-02,\n",
       "       -7.38091320e-02, -3.39412354e-02, -5.05245700e-02,  7.91487172e-02,\n",
       "       -2.08998676e-02,  5.26965363e-03,  6.45211712e-02, -6.16664402e-02,\n",
       "       -6.40453324e-02,  1.04166530e-02, -6.79596290e-02,  3.01152822e-02,\n",
       "        2.31528021e-02,  6.44097403e-02,  3.00744027e-02, -7.17025995e-02,\n",
       "       -7.22164735e-02,  3.21065225e-02,  7.02055590e-03,  3.12523507e-02,\n",
       "        1.10640423e-02, -8.10201000e-03, -2.18072619e-05, -8.80508497e-02,\n",
       "       -8.25003311e-02, -5.12673631e-02,  8.17480031e-03, -6.19874485e-02,\n",
       "       -5.38306460e-02, -2.37434562e-02,  4.35521007e-02, -4.82986979e-02,\n",
       "        1.73466373e-02,  1.08019300e-02,  5.92138059e-02, -5.85622303e-02,\n",
       "       -4.25168201e-02,  1.88041944e-02,  9.57108103e-03,  5.93963154e-02,\n",
       "        7.54979104e-02, -7.89404958e-02, -1.89009272e-02, -5.19161485e-02,\n",
       "        5.46315406e-03, -4.94623482e-02, -3.98970842e-02,  7.13360868e-03,\n",
       "       -3.06910053e-02, -3.07734832e-02, -2.47557722e-02,  6.20158017e-02,\n",
       "       -1.11916633e-02, -4.57334891e-02,  4.46614884e-02, -4.27065082e-02,\n",
       "        3.80796455e-02, -1.40229678e-02,  2.07346920e-02,  7.40385428e-03,\n",
       "        3.88703272e-02, -1.31388762e-04,  3.56813706e-02,  3.48320305e-02,\n",
       "       -2.16710772e-02,  5.26103191e-02, -4.37804163e-02,  6.46826327e-02,\n",
       "       -5.46584763e-02, -5.20751588e-02,  6.55261651e-02, -4.23197541e-03,\n",
       "        2.03380547e-03, -4.60122852e-03, -4.98737358e-02, -5.32837175e-02,\n",
       "        6.42178487e-03, -6.75971806e-02, -3.49846086e-03, -1.83799770e-02,\n",
       "       -5.99552132e-02, -1.20534152e-02,  5.15993722e-02,  1.88262537e-02,\n",
       "        6.08229227e-02,  2.80335434e-02,  6.01488957e-03,  5.05067036e-02,\n",
       "        7.36537576e-02, -8.16294402e-02, -1.36768874e-02, -3.22189815e-02,\n",
       "        4.67553549e-02,  2.82881707e-02,  7.85365030e-02,  3.92366424e-02,\n",
       "       -1.97445089e-03, -5.22211827e-02, -4.88783792e-02, -1.75667796e-02,\n",
       "        6.68876246e-03, -6.29144609e-02, -5.41818775e-02, -3.33491452e-02,\n",
       "       -1.27926962e-02,  3.72813456e-02, -6.12248629e-02,  6.48085698e-02,\n",
       "        1.94900706e-02, -7.66663998e-02, -7.53363818e-02, -4.94695408e-03,\n",
       "        3.69812809e-02,  3.50322127e-02,  8.72080773e-03,  1.93435904e-02,\n",
       "       -7.83167556e-02,  3.68748456e-02,  1.81653779e-02, -6.08255677e-02,\n",
       "        4.74814326e-02,  5.06188236e-02,  2.74776779e-02, -4.89414297e-02,\n",
       "       -6.00798661e-03, -7.52979815e-02,  2.18230672e-02,  4.01993282e-02,\n",
       "        6.76846039e-03,  3.53747942e-02,  7.57283866e-02, -6.83167353e-02,\n",
       "        3.26722190e-02,  5.80975898e-02, -5.79229509e-03,  5.48365228e-02,\n",
       "       -2.53118910e-02,  2.48893118e-03, -2.07417402e-02,  3.14191021e-02,\n",
       "       -2.18453128e-02,  6.83863983e-02, -6.57330677e-02,  2.12762747e-02,\n",
       "        2.41000913e-02, -5.62539622e-02, -3.06070060e-03,  5.17970361e-02,\n",
       "        2.03764271e-02, -9.30027757e-03, -4.35963720e-02,  8.37859791e-03,\n",
       "       -2.80214939e-02,  5.03599867e-02,  1.61913801e-02,  1.86136011e-02,\n",
       "        8.24747514e-03, -6.41951784e-02, -2.23041065e-02, -6.92126807e-03,\n",
       "        3.49928737e-02, -4.71547991e-02,  3.83274592e-02,  7.39320694e-03,\n",
       "        4.68427688e-02, -7.29061738e-02,  2.19118968e-02,  2.29290109e-02,\n",
       "        7.57361995e-03, -4.94390391e-02, -4.81821597e-03, -5.36905415e-02,\n",
       "        6.64031804e-02,  3.62247042e-02,  6.89221034e-03,  4.97386232e-02,\n",
       "       -1.42654814e-02, -4.59439754e-02, -3.80787998e-02,  4.81784083e-02],\n",
       "      dtype=float32)>"
      ]
     },
     "execution_count": 19,
     "metadata": {},
     "output_type": "execute_result"
    }
   ],
   "source": [
    "embeddings[0]"
   ]
  },
  {
   "cell_type": "code",
   "execution_count": 20,
   "metadata": {
    "scrolled": true
   },
   "outputs": [
    {
     "data": {
      "text/plain": [
       "TensorShape([21682, 512])"
      ]
     },
     "execution_count": 20,
     "metadata": {},
     "output_type": "execute_result"
    }
   ],
   "source": [
    "import numpy as np\n",
    "np.shape(embeddings)"
   ]
  },
  {
   "cell_type": "markdown",
   "metadata": {},
   "source": [
    "### Iterate over all job titles and create list of embeddings"
   ]
  },
  {
   "cell_type": "code",
   "execution_count": 21,
   "metadata": {},
   "outputs": [
    {
     "data": {
      "application/vnd.jupyter.widget-view+json": {
       "model_id": "969780f8c97747729ffeb0565379e13a",
       "version_major": 2,
       "version_minor": 0
      },
      "text/plain": [
       "HBox(children=(FloatProgress(value=0.0, max=21682.0), HTML(value='')))"
      ]
     },
     "metadata": {},
     "output_type": "display_data"
    },
    {
     "name": "stdout",
     "output_type": "stream",
     "text": [
      "\n"
     ]
    }
   ],
   "source": [
    "from tqdm.notebook import tqdm\n",
    "\n",
    "embeddings_array = [item.numpy() for item in tqdm(embeddings)]"
   ]
  },
  {
   "cell_type": "markdown",
   "metadata": {},
   "source": [
    "## Building an approximate similarity matching index with Faiss\n",
    "Faiss is a library for efficient similarity search and clustering of dense vectors. It contains algorithms that search in sets of vectors of any size, up to ones that possibly do not fit in RAM.    \n",
    "https://github.com/facebookresearch/faiss"
   ]
  },
  {
   "cell_type": "markdown",
   "metadata": {},
   "source": [
    "### Import faiss and create an index with our embeddings"
   ]
  },
  {
   "cell_type": "code",
   "execution_count": 22,
   "metadata": {
    "scrolled": true
   },
   "outputs": [],
   "source": [
    "import faiss\n",
    "import numpy as np\n",
    "dimensions = len(embeddings_array[0])\n",
    "faiss_index = faiss.IndexFlatL2(dimensions)\n",
    "faiss_index.add(np.array(embeddings_array))"
   ]
  },
  {
   "cell_type": "markdown",
   "metadata": {},
   "source": [
    "### Search for nearest neighbour in faiss"
   ]
  },
  {
   "cell_type": "code",
   "execution_count": 23,
   "metadata": {},
   "outputs": [
    {
     "data": {
      "text/plain": [
       "array([[13770,  5037, 10526, 13780,  1556]])"
      ]
     },
     "execution_count": 23,
     "metadata": {},
     "output_type": "execute_result"
    }
   ],
   "source": [
    "embedding = embed([\"this is a test\"])\n",
    "D, nearest_items = faiss_index.search(embedding.numpy(), 5)\n",
    "nearest_items"
   ]
  },
  {
   "cell_type": "code",
   "execution_count": 24,
   "metadata": {
    "scrolled": true
   },
   "outputs": [
    {
     "data": {
      "text/html": [
       "<div>\n",
       "<style scoped>\n",
       "    .dataframe tbody tr th:only-of-type {\n",
       "        vertical-align: middle;\n",
       "    }\n",
       "\n",
       "    .dataframe tbody tr th {\n",
       "        vertical-align: top;\n",
       "    }\n",
       "\n",
       "    .dataframe thead th {\n",
       "        text-align: right;\n",
       "    }\n",
       "</style>\n",
       "<table border=\"1\" class=\"dataframe\">\n",
       "  <thead>\n",
       "    <tr style=\"text-align: right;\">\n",
       "      <th></th>\n",
       "      <th>index</th>\n",
       "      <th>job_title</th>\n",
       "      <th>job_description</th>\n",
       "    </tr>\n",
       "  </thead>\n",
       "  <tbody>\n",
       "    <tr>\n",
       "      <th>13770</th>\n",
       "      <td>13960</td>\n",
       "      <td>Test Lead</td>\n",
       "      <td>RESPONSIBILITIES:Kforce has a client that is s...</td>\n",
       "    </tr>\n",
       "    <tr>\n",
       "      <th>5037</th>\n",
       "      <td>5144</td>\n",
       "      <td>Test Lead</td>\n",
       "      <td>Test Lead   Qualification: Bachelors in scienc...</td>\n",
       "    </tr>\n",
       "    <tr>\n",
       "      <th>10526</th>\n",
       "      <td>10688</td>\n",
       "      <td>USIT Tester Tier</td>\n",
       "      <td>Tester Role Bachelors degree or equivalent exp...</td>\n",
       "    </tr>\n",
       "    <tr>\n",
       "      <th>13780</th>\n",
       "      <td>13970</td>\n",
       "      <td>Test Engineer</td>\n",
       "      <td>Mastech is a growing company dedicated to inno...</td>\n",
       "    </tr>\n",
       "    <tr>\n",
       "      <th>1556</th>\n",
       "      <td>1581</td>\n",
       "      <td>Test Engineer</td>\n",
       "      <td>Randstad is looking for a Test Engineer in Dal...</td>\n",
       "    </tr>\n",
       "  </tbody>\n",
       "</table>\n",
       "</div>"
      ],
      "text/plain": [
       "       index           job_title  \\\n",
       "13770  13960          Test Lead    \n",
       "5037    5144          Test Lead    \n",
       "10526  10688  USIT Tester Tier     \n",
       "13780  13970      Test Engineer    \n",
       "1556    1581      Test Engineer    \n",
       "\n",
       "                                         job_description  \n",
       "13770  RESPONSIBILITIES:Kforce has a client that is s...  \n",
       "5037   Test Lead   Qualification: Bachelors in scienc...  \n",
       "10526  Tester Role Bachelors degree or equivalent exp...  \n",
       "13780  Mastech is a growing company dedicated to inno...  \n",
       "1556   Randstad is looking for a Test Engineer in Dal...  "
      ]
     },
     "execution_count": 24,
     "metadata": {},
     "output_type": "execute_result"
    }
   ],
   "source": [
    "df.iloc[[13770,  5037, 10526, 13780,  1556]]"
   ]
  },
  {
   "cell_type": "code",
   "execution_count": 25,
   "metadata": {},
   "outputs": [],
   "source": [
    "def get_most_similar_jobs(text: str, num_recos: int = 5)-> pd.DataFrame:\n",
    "    embedding = embed([text])\n",
    "    D, nearest_items = faiss_index.search(embedding.numpy(), num_recos)\n",
    "    return df.iloc[nearest_items[0]]"
   ]
  },
  {
   "cell_type": "code",
   "execution_count": 26,
   "metadata": {
    "scrolled": true
   },
   "outputs": [
    {
     "data": {
      "text/html": [
       "<div>\n",
       "<style scoped>\n",
       "    .dataframe tbody tr th:only-of-type {\n",
       "        vertical-align: middle;\n",
       "    }\n",
       "\n",
       "    .dataframe tbody tr th {\n",
       "        vertical-align: top;\n",
       "    }\n",
       "\n",
       "    .dataframe thead th {\n",
       "        text-align: right;\n",
       "    }\n",
       "</style>\n",
       "<table border=\"1\" class=\"dataframe\">\n",
       "  <thead>\n",
       "    <tr style=\"text-align: right;\">\n",
       "      <th></th>\n",
       "      <th>index</th>\n",
       "      <th>job_title</th>\n",
       "      <th>job_description</th>\n",
       "    </tr>\n",
       "  </thead>\n",
       "  <tbody>\n",
       "    <tr>\n",
       "      <th>14986</th>\n",
       "      <td>15197</td>\n",
       "      <td>Python Developer</td>\n",
       "      <td>Job Description:-Client is looking for a Pytho...</td>\n",
       "    </tr>\n",
       "    <tr>\n",
       "      <th>3500</th>\n",
       "      <td>3533</td>\n",
       "      <td>Python Developer</td>\n",
       "      <td>Job Description:-Client is looking for a Pytho...</td>\n",
       "    </tr>\n",
       "    <tr>\n",
       "      <th>11023</th>\n",
       "      <td>11194</td>\n",
       "      <td>Python Developer II</td>\n",
       "      <td>RESPONSIBILITIES:Kforce has a client that is s...</td>\n",
       "    </tr>\n",
       "    <tr>\n",
       "      <th>17246</th>\n",
       "      <td>17533</td>\n",
       "      <td>Sr Python Developer</td>\n",
       "      <td>Experis IT, a Manpower Company, is seeking a S...</td>\n",
       "    </tr>\n",
       "    <tr>\n",
       "      <th>16475</th>\n",
       "      <td>16731</td>\n",
       "      <td>API Tester w Python Scripting experience</td>\n",
       "      <td>• To test the different services and API’s nee...</td>\n",
       "    </tr>\n",
       "    <tr>\n",
       "      <th>15529</th>\n",
       "      <td>15745</td>\n",
       "      <td>Senior Software Engineer Python</td>\n",
       "      <td>Senior Software Engineer (Python)Senior Softwa...</td>\n",
       "    </tr>\n",
       "    <tr>\n",
       "      <th>17933</th>\n",
       "      <td>18220</td>\n",
       "      <td>Java  Groovy Developer</td>\n",
       "      <td>RESPONSIBILITIES:Kforce has a client in Westla...</td>\n",
       "    </tr>\n",
       "    <tr>\n",
       "      <th>4735</th>\n",
       "      <td>4841</td>\n",
       "      <td>Software Automation Engineer – Python</td>\n",
       "      <td>Software Automation Engineer – Python, Ruby, J...</td>\n",
       "    </tr>\n",
       "    <tr>\n",
       "      <th>3484</th>\n",
       "      <td>3517</td>\n",
       "      <td>Java SDET</td>\n",
       "      <td>Quickly growing company on the East side is lo...</td>\n",
       "    </tr>\n",
       "    <tr>\n",
       "      <th>21044</th>\n",
       "      <td>21362</td>\n",
       "      <td>Java</td>\n",
       "      <td>Java DeveloperJava Developer Description: The ...</td>\n",
       "    </tr>\n",
       "  </tbody>\n",
       "</table>\n",
       "</div>"
      ],
      "text/plain": [
       "       index                                  job_title  \\\n",
       "14986  15197                          Python Developer    \n",
       "3500    3533                          Python Developer    \n",
       "11023  11194                       Python Developer II    \n",
       "17246  17533                       Sr Python Developer    \n",
       "16475  16731  API Tester w Python Scripting experience    \n",
       "15529  15745           Senior Software Engineer Python    \n",
       "17933  18220                    Java  Groovy Developer    \n",
       "4735    4841      Software Automation Engineer – Python   \n",
       "3484    3517                                 Java SDET    \n",
       "21044  21362                                      Java    \n",
       "\n",
       "                                         job_description  \n",
       "14986  Job Description:-Client is looking for a Pytho...  \n",
       "3500   Job Description:-Client is looking for a Pytho...  \n",
       "11023  RESPONSIBILITIES:Kforce has a client that is s...  \n",
       "17246  Experis IT, a Manpower Company, is seeking a S...  \n",
       "16475  • To test the different services and API’s nee...  \n",
       "15529  Senior Software Engineer (Python)Senior Softwa...  \n",
       "17933  RESPONSIBILITIES:Kforce has a client in Westla...  \n",
       "4735   Software Automation Engineer – Python, Ruby, J...  \n",
       "3484   Quickly growing company on the East side is lo...  \n",
       "21044  Java DeveloperJava Developer Description: The ...  "
      ]
     },
     "execution_count": 26,
     "metadata": {},
     "output_type": "execute_result"
    }
   ],
   "source": [
    "get_most_similar_jobs(\"I want to develop in python\", 10)"
   ]
  },
  {
   "cell_type": "code",
   "execution_count": null,
   "metadata": {},
   "outputs": [],
   "source": []
  }
 ],
 "metadata": {
  "kernelspec": {
   "display_name": "Python 3",
   "language": "python",
   "name": "python3"
  },
  "language_info": {
   "codemirror_mode": {
    "name": "ipython",
    "version": 3
   },
   "file_extension": ".py",
   "mimetype": "text/x-python",
   "name": "python",
   "nbconvert_exporter": "python",
   "pygments_lexer": "ipython3",
   "version": "3.7.4"
  }
 },
 "nbformat": 4,
 "nbformat_minor": 4
}
