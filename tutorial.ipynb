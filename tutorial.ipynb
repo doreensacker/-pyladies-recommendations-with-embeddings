{
 "cells": [
  {
   "cell_type": "markdown",
   "metadata": {},
   "source": [
    "# Building a job recommendation system with embeddings"
   ]
  },
  {
   "cell_type": "markdown",
   "metadata": {},
   "source": [
    "## Agenda\n",
    "\n",
    "1. Data exploration\n",
    "2. Data cleaning\n",
    "3. Embedddings generation (https://tfhub.dev/google/universal-sentence-encoder/4)\n",
    "4. Similarity search with Faiss (https://github.com/facebookresearch/faiss)\n",
    "5. Recommendations based on text"
   ]
  },
  {
   "cell_type": "markdown",
   "metadata": {},
   "source": [
    "## Import data"
   ]
  },
  {
   "cell_type": "code",
   "execution_count": 1,
   "metadata": {},
   "outputs": [],
   "source": [
    "import pandas as pd\n",
    "df_raw = pd.read_csv(\"data/monster_com-job_sample.csv\")\n",
    "df = df_raw[[\"job_title\", \"job_description\"]]"
   ]
  },
  {
   "cell_type": "code",
   "execution_count": 2,
   "metadata": {
    "scrolled": true
   },
   "outputs": [
    {
     "data": {
      "text/html": [
       "<div>\n",
       "<style scoped>\n",
       "    .dataframe tbody tr th:only-of-type {\n",
       "        vertical-align: middle;\n",
       "    }\n",
       "\n",
       "    .dataframe tbody tr th {\n",
       "        vertical-align: top;\n",
       "    }\n",
       "\n",
       "    .dataframe thead th {\n",
       "        text-align: right;\n",
       "    }\n",
       "</style>\n",
       "<table border=\"1\" class=\"dataframe\">\n",
       "  <thead>\n",
       "    <tr style=\"text-align: right;\">\n",
       "      <th></th>\n",
       "      <th>job_title</th>\n",
       "      <th>job_description</th>\n",
       "    </tr>\n",
       "  </thead>\n",
       "  <tbody>\n",
       "    <tr>\n",
       "      <th>0</th>\n",
       "      <td>IT Support Technician Job in Madison</td>\n",
       "      <td>TeamSoft is seeing an IT Support Specialist to...</td>\n",
       "    </tr>\n",
       "    <tr>\n",
       "      <th>1</th>\n",
       "      <td>Business Reporter/Editor Job in Madison</td>\n",
       "      <td>The Wisconsin State Journal is seeking a flexi...</td>\n",
       "    </tr>\n",
       "    <tr>\n",
       "      <th>2</th>\n",
       "      <td>Johnson &amp; Johnson Family of Companies Job Appl...</td>\n",
       "      <td>Report this job About the Job DePuy Synthes Co...</td>\n",
       "    </tr>\n",
       "    <tr>\n",
       "      <th>3</th>\n",
       "      <td>Engineer - Quality Job in Dixon</td>\n",
       "      <td>Why Join Altec? If you’re considering a career...</td>\n",
       "    </tr>\n",
       "    <tr>\n",
       "      <th>4</th>\n",
       "      <td>Shift Supervisor - Part-Time Job in Camphill</td>\n",
       "      <td>Position ID#  76162 # Positions  1 State  CT C...</td>\n",
       "    </tr>\n",
       "    <tr>\n",
       "      <th>...</th>\n",
       "      <td>...</td>\n",
       "      <td>...</td>\n",
       "    </tr>\n",
       "    <tr>\n",
       "      <th>21995</th>\n",
       "      <td>Assistant Vice President - Controller Job in C...</td>\n",
       "      <td>This is a major premier Cincinnati based finan...</td>\n",
       "    </tr>\n",
       "    <tr>\n",
       "      <th>21996</th>\n",
       "      <td>Accountant Job in Cincinnati</td>\n",
       "      <td>Luxury homebuilder in Cincinnati seeking multi...</td>\n",
       "    </tr>\n",
       "    <tr>\n",
       "      <th>21997</th>\n",
       "      <td>AEM/CQ developer Job in Chicago</td>\n",
       "      <td>RE: Adobe AEM-          Client -          Loca...</td>\n",
       "    </tr>\n",
       "    <tr>\n",
       "      <th>21998</th>\n",
       "      <td>Electrician - Experienced Forging Electrician ...</td>\n",
       "      <td>Jernberg Industries was established in 1937 an...</td>\n",
       "    </tr>\n",
       "    <tr>\n",
       "      <th>21999</th>\n",
       "      <td>Contract Administrator Job in Cincinnati</td>\n",
       "      <td>Contract AdministratorCan you be the point per...</td>\n",
       "    </tr>\n",
       "  </tbody>\n",
       "</table>\n",
       "<p>22000 rows × 2 columns</p>\n",
       "</div>"
      ],
      "text/plain": [
       "                                               job_title  \\\n",
       "0                   IT Support Technician Job in Madison   \n",
       "1                Business Reporter/Editor Job in Madison   \n",
       "2      Johnson & Johnson Family of Companies Job Appl...   \n",
       "3                        Engineer - Quality Job in Dixon   \n",
       "4           Shift Supervisor - Part-Time Job in Camphill   \n",
       "...                                                  ...   \n",
       "21995  Assistant Vice President - Controller Job in C...   \n",
       "21996                       Accountant Job in Cincinnati   \n",
       "21997                    AEM/CQ developer Job in Chicago   \n",
       "21998  Electrician - Experienced Forging Electrician ...   \n",
       "21999           Contract Administrator Job in Cincinnati   \n",
       "\n",
       "                                         job_description  \n",
       "0      TeamSoft is seeing an IT Support Specialist to...  \n",
       "1      The Wisconsin State Journal is seeking a flexi...  \n",
       "2      Report this job About the Job DePuy Synthes Co...  \n",
       "3      Why Join Altec? If you’re considering a career...  \n",
       "4      Position ID#  76162 # Positions  1 State  CT C...  \n",
       "...                                                  ...  \n",
       "21995  This is a major premier Cincinnati based finan...  \n",
       "21996  Luxury homebuilder in Cincinnati seeking multi...  \n",
       "21997  RE: Adobe AEM-          Client -          Loca...  \n",
       "21998  Jernberg Industries was established in 1937 an...  \n",
       "21999  Contract AdministratorCan you be the point per...  \n",
       "\n",
       "[22000 rows x 2 columns]"
      ]
     },
     "execution_count": 2,
     "metadata": {},
     "output_type": "execute_result"
    }
   ],
   "source": [
    "df"
   ]
  },
  {
   "cell_type": "markdown",
   "metadata": {},
   "source": [
    "## Dataframe exploration\n",
    "What can you find out about the data?\n",
    "(Null-values? Unique values?)"
   ]
  },
  {
   "cell_type": "code",
   "execution_count": 3,
   "metadata": {},
   "outputs": [],
   "source": [
    "# Your code here"
   ]
  },
  {
   "cell_type": "markdown",
   "metadata": {},
   "source": [
    "## Exploration and cleaning of the job title column"
   ]
  },
  {
   "cell_type": "markdown",
   "metadata": {},
   "source": [
    "### What are the most common job titles?\n",
    "Hint: https://pandas.pydata.org/pandas-docs/stable/reference/api/pandas.Series.value_counts.html"
   ]
  },
  {
   "cell_type": "code",
   "execution_count": 4,
   "metadata": {},
   "outputs": [],
   "source": [
    "# Your code here"
   ]
  },
  {
   "cell_type": "markdown",
   "metadata": {},
   "source": [
    "### Count the most occuring words in the job_title column\n",
    "Hint: https://docs.python.org/3/library/collections.html#collections.Counter.most_common"
   ]
  },
  {
   "cell_type": "code",
   "execution_count": 5,
   "metadata": {
    "scrolled": true
   },
   "outputs": [],
   "source": [
    "# Your code here"
   ]
  },
  {
   "cell_type": "markdown",
   "metadata": {},
   "source": [
    "### Further ideas for exploration?"
   ]
  },
  {
   "cell_type": "code",
   "execution_count": 6,
   "metadata": {},
   "outputs": [],
   "source": [
    "# Your code here"
   ]
  },
  {
   "cell_type": "markdown",
   "metadata": {},
   "source": [
    "### Clean job_title colum\n",
    "Ideas:\n",
    "- Remove jobs with Monster as title\n",
    "- Replace the jobtitle RN with Registered Nurse\n",
    "- Other? "
   ]
  },
  {
   "cell_type": "code",
   "execution_count": 7,
   "metadata": {
    "scrolled": true
   },
   "outputs": [],
   "source": [
    "# Your code here"
   ]
  },
  {
   "cell_type": "markdown",
   "metadata": {},
   "source": [
    "### Remove the unwanted words from Job_Title column\n",
    "Ideas: \n",
    "- Job\n",
    "- Monster.com\n",
    "- Other? "
   ]
  },
  {
   "cell_type": "code",
   "execution_count": 8,
   "metadata": {},
   "outputs": [],
   "source": [
    "# Your code here"
   ]
  },
  {
   "cell_type": "markdown",
   "metadata": {},
   "source": [
    "### Remove punctuation from job_title column"
   ]
  },
  {
   "cell_type": "code",
   "execution_count": 9,
   "metadata": {},
   "outputs": [],
   "source": [
    "# Your code here"
   ]
  },
  {
   "cell_type": "markdown",
   "metadata": {},
   "source": [
    "### Reset index of dataframe\n",
    "In order to map the indexes in the similarity search back to the dataframe, we need to reset the index here"
   ]
  },
  {
   "cell_type": "code",
   "execution_count": 10,
   "metadata": {},
   "outputs": [],
   "source": [
    "df = df.reset_index()"
   ]
  },
  {
   "cell_type": "markdown",
   "metadata": {},
   "source": [
    "# Universal Sentence Encoder"
   ]
  },
  {
   "cell_type": "markdown",
   "metadata": {},
   "source": [
    "## Convert text into vectors with the  Universal Sentence Encoder"
   ]
  },
  {
   "cell_type": "code",
   "execution_count": 11,
   "metadata": {},
   "outputs": [],
   "source": [
    "import tensorflow_hub as hub\n",
    "embed = hub.load(\"https://tfhub.dev/google/universal-sentence-encoder/4\")"
   ]
  },
  {
   "cell_type": "markdown",
   "metadata": {},
   "source": [
    "### Iterate over all job titles and create list of embeddings"
   ]
  },
  {
   "cell_type": "code",
   "execution_count": 12,
   "metadata": {},
   "outputs": [],
   "source": [
    "# Your code here\n",
    "embeddings = embed([\"test\"])"
   ]
  },
  {
   "cell_type": "code",
   "execution_count": 13,
   "metadata": {},
   "outputs": [
    {
     "name": "stdout",
     "output_type": "stream",
     "text": [
      "tf.Tensor(\n",
      "[-6.80234432e-02 -6.85853809e-02 -1.30280964e-02  1.88582931e-02\n",
      "  2.57420018e-02 -4.86867055e-02  2.86325533e-03 -3.84496488e-02\n",
      "  5.93511090e-02  4.94558886e-02  4.37081642e-02  3.49676684e-02\n",
      "  8.89310762e-02  7.06300065e-02 -2.95681506e-02  7.23352507e-02\n",
      "  2.85208728e-02  5.63974008e-02  9.06294733e-02  1.48673793e-02\n",
      " -6.72313869e-02 -1.69373080e-02 -3.11953388e-02  4.28184494e-02\n",
      "  5.73504856e-03 -1.10957902e-02 -6.67554364e-02 -1.41196316e-02\n",
      "  1.79266073e-02 -4.48298194e-02  2.98095383e-02 -4.44913581e-02\n",
      " -2.33741663e-02  3.66820097e-02  9.42519959e-03 -4.14091796e-02\n",
      " -6.11785203e-02 -4.18652408e-02  5.44798970e-02  8.00584853e-02\n",
      " -5.27739041e-02 -3.06957774e-02 -8.25393945e-02  7.32660946e-03\n",
      "  2.29071057e-03 -8.70237220e-03 -9.87577531e-03 -3.66706476e-02\n",
      "  6.82314411e-02 -1.26337688e-02  2.74885651e-02  6.64538369e-02\n",
      "  8.37582722e-02  7.10683987e-02  1.49990693e-02 -1.93336774e-02\n",
      "  6.04777224e-02 -5.57912663e-02  1.51881687e-02  8.50801021e-02\n",
      " -3.13722603e-02 -5.94903044e-02  5.56154773e-02 -5.11918813e-02\n",
      " -1.53800445e-02  4.87634689e-02 -1.93087123e-02 -2.75016222e-02\n",
      "  8.15820023e-02  2.90766507e-02  2.66543441e-02  2.45697349e-02\n",
      "  2.49276459e-02  6.63624853e-02 -6.57777563e-02  2.74731349e-02\n",
      " -5.46642244e-02  3.43428478e-02  1.52448583e-02 -7.38737732e-02\n",
      "  1.13993641e-02  7.19489828e-02 -6.21856675e-02  3.24485004e-02\n",
      " -3.59734632e-02  2.16862988e-02 -7.28161037e-02  6.00202233e-02\n",
      "  1.90797485e-02 -1.37081472e-02 -4.95331772e-02  8.48537497e-03\n",
      " -5.56284972e-02 -2.13097464e-02  1.04526216e-02 -6.15522899e-02\n",
      "  3.40423398e-02  3.13267857e-02  3.21601853e-02  9.58122034e-03\n",
      "  2.73158960e-02 -3.59994806e-02 -3.17300744e-02 -6.80827051e-02\n",
      "  4.65225093e-02  1.09015303e-02  5.23566920e-03  2.34902818e-02\n",
      " -7.65790194e-02 -4.58972752e-02  4.25304100e-02  5.73265553e-02\n",
      "  2.65016295e-02 -3.60420048e-02 -2.04343349e-03 -5.75004369e-02\n",
      " -3.49318758e-02  5.14518619e-02 -3.54655422e-02  5.77626340e-02\n",
      " -2.31679082e-02  7.42262276e-03  1.21218823e-02 -3.69383842e-02\n",
      "  4.38051037e-02  7.54522383e-02  2.32331688e-03 -2.19245050e-02\n",
      " -1.51735144e-02  2.33416650e-02 -2.09465809e-02  7.08906874e-02\n",
      "  8.30196813e-02  7.61475414e-02  4.45952453e-02  2.58665774e-02\n",
      " -1.48067744e-02 -1.04740653e-02 -1.36948377e-02 -1.57812852e-02\n",
      " -2.98255384e-02 -2.77806539e-02  6.77962825e-02 -5.66477217e-02\n",
      " -5.06432308e-03  3.88514763e-03  3.23050693e-02 -4.14699502e-02\n",
      " -2.69169509e-02  3.76247689e-02  8.96028876e-02  6.95401728e-02\n",
      " -6.22942336e-02 -4.26503457e-03 -6.23506494e-03  5.48970513e-02\n",
      " -1.07783023e-02  2.70348080e-02 -2.64895372e-02 -2.75678057e-02\n",
      " -5.63831851e-02 -1.28070712e-02  2.48077937e-04 -5.92510104e-02\n",
      " -4.87611890e-02  2.15957761e-02 -7.11854100e-02 -1.88525673e-02\n",
      "  4.91352268e-02 -5.16405068e-02  3.31482068e-02  3.56636965e-03\n",
      " -3.47124860e-02 -6.20535947e-03 -5.75690717e-02  3.11577208e-02\n",
      "  2.37072632e-02  2.26888573e-03 -1.63315833e-02  5.09532914e-02\n",
      "  3.12100165e-02 -1.82596557e-02  2.44366042e-02 -4.18707021e-02\n",
      "  6.76928759e-02  7.78666586e-02  5.86371757e-02 -3.29689234e-02\n",
      " -1.19204363e-02 -1.58614703e-02  9.29479823e-02  3.23852934e-02\n",
      "  1.84844844e-02  1.35424985e-02  2.48942692e-02 -6.90882951e-02\n",
      " -4.82908310e-03 -7.80077931e-03 -4.38658446e-02  7.31161050e-03\n",
      " -2.56817508e-03 -3.23828273e-02  3.81530449e-02  2.67099459e-02\n",
      "  7.74072558e-02 -6.13400787e-02 -5.92664778e-02  1.02428515e-02\n",
      "  1.79669186e-02 -1.72149315e-02 -2.79054213e-02  5.30769117e-02\n",
      "  6.57687709e-02 -2.32587773e-02 -3.50620933e-02 -8.34863633e-02\n",
      "  2.36670617e-02  5.05948104e-02  4.28152755e-02  4.88137677e-02\n",
      "  1.21186981e-02 -6.11711890e-02  5.99801028e-03 -4.92799617e-02\n",
      " -2.90370695e-02  3.60594057e-02  3.79147343e-02 -4.82625281e-03\n",
      "  3.57818184e-03 -2.75542084e-02  5.46159856e-02 -4.37264815e-02\n",
      "  3.01119536e-02  9.32023600e-02 -3.69373821e-02  1.45809250e-02\n",
      " -4.27769050e-02 -3.29480842e-02 -3.42710242e-02 -7.97474384e-03\n",
      "  2.14108508e-02  3.26652415e-02 -5.45846336e-02 -1.60634704e-02\n",
      "  6.53757388e-03  1.95805170e-02 -2.27855947e-02 -6.06640130e-02\n",
      "  3.24224867e-02  1.34726586e-02  1.15448756e-05 -1.57195725e-03\n",
      "  2.64049508e-02  5.86676039e-02 -2.97872331e-02 -5.34194186e-02\n",
      " -9.25014317e-02 -1.15988115e-02 -8.67109001e-03  1.34164710e-02\n",
      " -3.62037160e-02 -2.50582248e-02  4.30279039e-02 -7.47265816e-02\n",
      " -1.32427141e-02  5.53887933e-02 -2.77779605e-02 -5.52995317e-02\n",
      "  5.59300010e-04 -4.44927067e-02  5.96959516e-02  1.66653432e-02\n",
      " -6.72146212e-03 -5.08488789e-02  2.83003487e-02 -1.79510918e-02\n",
      " -1.35850040e-02 -8.64417702e-02  4.50051539e-02  1.05896955e-02\n",
      " -7.82140195e-02  8.05744305e-02 -4.63037286e-03  2.44929213e-02\n",
      " -3.24075744e-02  4.02000658e-02  1.71513818e-02  9.01860073e-02\n",
      " -5.40530235e-02  5.87233640e-02  3.31783555e-02 -3.46224159e-02\n",
      " -8.02724506e-04 -2.92070992e-02  7.65714273e-02  3.61416751e-04\n",
      " -4.07367386e-02 -7.31683820e-02 -1.83129515e-02 -5.49984984e-02\n",
      " -3.61942761e-02 -7.61659145e-02 -6.11511758e-03 -6.20095234e-04\n",
      " -4.60767624e-04  6.25803024e-02  8.79057869e-02  1.62033848e-02\n",
      "  4.32493985e-02 -6.82438314e-02  2.28053108e-02  7.96996802e-03\n",
      "  7.23835081e-02  2.78192759e-02  2.04694252e-02  5.01897484e-02\n",
      "  4.60448563e-02 -2.84206662e-02 -1.71570890e-02 -8.32595751e-02\n",
      " -1.25517659e-02  2.15022508e-02  3.17115039e-02  4.86087240e-02\n",
      "  1.39833270e-02 -1.53133064e-03  5.39057553e-02  7.36939982e-02\n",
      " -8.99762599e-05 -6.41066357e-02 -4.23914455e-02 -8.06412566e-03\n",
      "  3.00982557e-02 -2.27598939e-02 -4.28995267e-02 -3.59701440e-02\n",
      " -2.38617193e-02  9.13099665e-03 -3.04707959e-02  1.01285689e-02\n",
      "  3.37944803e-04  1.25815943e-02  4.32969965e-02  2.52443459e-02\n",
      " -6.24851659e-02  1.71928555e-02  3.85545269e-02 -1.96447130e-02\n",
      " -3.04271262e-02  1.90462526e-02  6.92580491e-02  7.79332519e-02\n",
      "  2.79689394e-02  2.55285464e-02  3.83860022e-02 -7.77558386e-02\n",
      " -8.28158930e-02 -6.31171092e-02  4.21472192e-02 -4.50584665e-02\n",
      "  1.79671589e-02  2.11677141e-02  7.46055469e-02 -1.39619680e-02\n",
      "  3.50420140e-02 -7.11339563e-02 -5.87919261e-03  1.15423584e-02\n",
      "  8.13070089e-02 -5.92550673e-02  5.73465563e-02 -4.81009558e-02\n",
      "  4.91784848e-02 -5.75115122e-02 -6.04609922e-02  1.51845738e-02\n",
      " -1.90531518e-02 -3.96701731e-02 -1.89649966e-02 -4.59670536e-02\n",
      "  2.15100832e-02  1.00554051e-02  1.68977119e-02 -3.05918069e-03\n",
      "  8.05546343e-02 -4.90054041e-02 -4.19223495e-03  2.85210274e-02\n",
      " -3.03385872e-02  6.15157038e-02 -5.96016534e-02  6.29841685e-02\n",
      "  7.66802505e-02 -4.49325368e-02 -5.09311296e-02  9.80560388e-03\n",
      "  1.30226626e-03 -9.15198699e-02 -2.38914955e-02 -3.75095792e-02\n",
      " -6.55953912e-03 -5.17967120e-02 -8.78650788e-03 -4.33003455e-02\n",
      " -1.29785028e-03 -3.35741788e-02 -5.37223034e-02  8.41620192e-03\n",
      " -3.80451046e-02 -2.10805256e-02 -2.42835786e-02 -5.17615154e-02\n",
      " -4.88103889e-02 -3.35096084e-02 -5.83675355e-02  5.85010275e-02\n",
      " -2.83324961e-02  3.79491560e-02  6.08375296e-03 -8.14871639e-02\n",
      "  1.89324934e-02 -8.58400911e-02 -5.99841587e-02 -2.62333266e-02\n",
      "  1.97357917e-03  6.50263531e-03  5.76180443e-02  7.06012323e-02\n",
      "  4.75771213e-03  5.37113063e-02  6.67683035e-02 -3.66264558e-03\n",
      " -8.83037820e-02 -5.27462438e-02  1.97442230e-02 -4.79411305e-04\n",
      "  4.07372117e-02 -3.70021313e-02 -6.09036088e-02  3.14911082e-02\n",
      "  1.14826234e-02  2.57188808e-02 -3.97602655e-02  6.57755807e-02\n",
      " -2.80289333e-02 -1.56180803e-02  5.92055432e-02  5.64450175e-02\n",
      "  6.43873811e-02 -5.91170639e-02  3.28755192e-02  4.25443752e-04\n",
      "  5.01761548e-02  5.00358194e-02  3.09673045e-02 -2.11312566e-02\n",
      "  3.11157368e-02 -4.65605594e-02 -6.59904107e-02 -2.47191382e-03\n",
      "  5.18394299e-02  4.77969982e-02 -4.72308286e-02 -9.99849848e-03\n",
      "  6.34131208e-02 -2.03957286e-04  3.62054482e-02  1.16065592e-02\n",
      "  3.57102491e-02 -2.04718485e-02  5.88507298e-03  6.17490225e-02\n",
      " -1.00317700e-02  2.77046859e-02  1.01151578e-02 -1.59265082e-02\n",
      " -5.10283001e-02  2.74331998e-02 -4.17892858e-02  6.89466745e-02\n",
      " -1.31256543e-02 -5.78250997e-02  4.24980521e-02  4.65175360e-02\n",
      "  2.19789427e-02  2.60547153e-03 -7.55612180e-02 -5.49706537e-03\n",
      "  4.28414308e-02  5.32471463e-02 -2.74103750e-02 -3.49877751e-03\n",
      " -2.10801456e-02  7.52169862e-02 -4.88456674e-02  4.95124434e-04\n",
      " -3.42739075e-02 -6.37148991e-02  4.79808599e-02 -4.80502173e-02\n",
      "  3.35010737e-02 -5.02692983e-02 -7.92891756e-02 -8.99217874e-02\n",
      "  5.79428859e-02 -8.61988366e-02  5.42973876e-02 -2.96347705e-03\n",
      " -6.01856560e-02 -3.94645184e-02  7.71777099e-03 -4.15614806e-02], shape=(512,), dtype=float32)\n"
     ]
    }
   ],
   "source": [
    "print(embeddings[0])"
   ]
  },
  {
   "cell_type": "code",
   "execution_count": 14,
   "metadata": {},
   "outputs": [
    {
     "data": {
      "text/plain": [
       "TensorShape([1, 512])"
      ]
     },
     "execution_count": 14,
     "metadata": {},
     "output_type": "execute_result"
    }
   ],
   "source": [
    "import numpy as np\n",
    "np.shape(embeddings)"
   ]
  },
  {
   "cell_type": "code",
   "execution_count": 15,
   "metadata": {},
   "outputs": [
    {
     "data": {
      "application/vnd.jupyter.widget-view+json": {
       "model_id": "4f3da0de73874a85aa5706cadb560fa6",
       "version_major": 2,
       "version_minor": 0
      },
      "text/plain": [
       "HBox(children=(FloatProgress(value=0.0, max=1.0), HTML(value='')))"
      ]
     },
     "metadata": {},
     "output_type": "display_data"
    },
    {
     "name": "stdout",
     "output_type": "stream",
     "text": [
      "\n"
     ]
    }
   ],
   "source": [
    "from tqdm.notebook import tqdm\n",
    "embeddings_array = [item.numpy() for item in tqdm(embeddings)]"
   ]
  },
  {
   "cell_type": "markdown",
   "metadata": {},
   "source": [
    "## Building an approximate similarity matching index with Faiss\n",
    "Faiss is a library for efficient similarity search and clustering of dense vectors. It contains algorithms that search in sets of vectors of any size, up to ones that possibly do not fit in RAM.    \n",
    "https://github.com/facebookresearch/faiss"
   ]
  },
  {
   "cell_type": "markdown",
   "metadata": {},
   "source": [
    "### Import faiss and create an index with our embeddings"
   ]
  },
  {
   "cell_type": "code",
   "execution_count": 16,
   "metadata": {},
   "outputs": [],
   "source": [
    "import faiss\n",
    "import numpy as np\n",
    "dimensions = len(embeddings_array[0])\n",
    "faiss_index = faiss.IndexFlatL2(dimensions)\n",
    "faiss_index.add(np.array(embeddings_array))"
   ]
  },
  {
   "cell_type": "markdown",
   "metadata": {},
   "source": [
    "### Search for nearest neighbour in faiss\n",
    "Write code that takes a text, transform it into a vector and get similar vectors from faiss_index    \n",
    "Hint search in index: https://github.com/facebookresearch/faiss/wiki/Getting-started"
   ]
  },
  {
   "cell_type": "code",
   "execution_count": 17,
   "metadata": {},
   "outputs": [],
   "source": [
    "# Your code here"
   ]
  },
  {
   "cell_type": "markdown",
   "metadata": {},
   "source": [
    "### Write a function that returns similar jobs for an input text\n",
    "\n",
    "The search operation returns the ids (row numbers or index in the vector store) of the k most similar vectors for each query vector along with their respective distances. Use these indexes in order to return the correct rows of our dataframe"
   ]
  },
  {
   "cell_type": "code",
   "execution_count": 19,
   "metadata": {},
   "outputs": [],
   "source": [
    "def get_most_similar_jobs(text: str, num_recos: int = 5) -> pd.DataFrame:\n",
    "    # Your code here\n",
    "    pass"
   ]
  },
  {
   "cell_type": "code",
   "execution_count": 21,
   "metadata": {},
   "outputs": [],
   "source": [
    "get_most_similar_jobs(\"I want to develop in python\")"
   ]
  },
  {
   "cell_type": "code",
   "execution_count": null,
   "metadata": {},
   "outputs": [],
   "source": []
  }
 ],
 "metadata": {
  "kernelspec": {
   "display_name": "Python 3",
   "language": "python",
   "name": "python3"
  },
  "language_info": {
   "codemirror_mode": {
    "name": "ipython",
    "version": 3
   },
   "file_extension": ".py",
   "mimetype": "text/x-python",
   "name": "python",
   "nbconvert_exporter": "python",
   "pygments_lexer": "ipython3",
   "version": "3.7.4"
  }
 },
 "nbformat": 4,
 "nbformat_minor": 4
}
